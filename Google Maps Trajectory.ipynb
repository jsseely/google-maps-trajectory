{
 "cells": [
  {
   "cell_type": "code",
   "execution_count": null,
   "id": "80edea2f",
   "metadata": {},
   "outputs": [],
   "source": [
    "# !pip install folium  # uncomment to install folium package"
   ]
  },
  {
   "cell_type": "markdown",
   "id": "b933ffee",
   "metadata": {},
   "source": [
    "# Instructions\n",
    "\n",
    "1. Download your Google Maps timeline data\n",
    "    - Go to [maps.google.com](https://maps.google.com/)\n",
    "    - Navigate to `Your data in Maps`\n",
    "    - Download `Location History`\n",
    "2. Replace `file_name` below with the filepath to `records.json` file.\n",
    "3. Replace `state_date`, `end_date`, `center` below."
   ]
  },
  {
   "cell_type": "code",
   "execution_count": null,
   "id": "7f7bb3de",
   "metadata": {},
   "outputs": [],
   "source": [
    "file_name = \"records.json\""
   ]
  },
  {
   "cell_type": "code",
   "execution_count": null,
   "id": "8c6657fa",
   "metadata": {},
   "outputs": [],
   "source": [
    "start_date = \"2023-01-01\"  # YYYY-MM-DD\n",
    "end_date = \"2023-06-01\"  # YYYY-MM-DD\n",
    "center = [36.2048, 138.2529]  # lat and long map center"
   ]
  },
  {
   "cell_type": "markdown",
   "id": "3bfd6be0",
   "metadata": {},
   "source": [
    "# Create the map"
   ]
  },
  {
   "cell_type": "code",
   "execution_count": null,
   "id": "2dd198ea",
   "metadata": {},
   "outputs": [],
   "source": [
    "import json\n",
    "import folium\n",
    "import pandas as pd\n",
    "import matplotlib.pyplot as plt\n",
    "from pytz import utc\n",
    "\n",
    "from matplotlib.colors import Normalize, to_hex\n",
    "from matplotlib.cm import ScalarMappable"
   ]
  },
  {
   "cell_type": "code",
   "execution_count": null,
   "id": "0e454e0c",
   "metadata": {},
   "outputs": [],
   "source": [
    "with open(file_name, 'r') as f:\n",
    "    data = json.load(f)\n",
    "\n",
    "df = pd.DataFrame(data['locations'])\n",
    "\n",
    "# Parse the timestamp\n",
    "df['timestamp'] = pd.to_datetime(df['timestamp'], format='mixed', errors='coerce')\n",
    "\n",
    "# Convert latitudeE7 and longitudeE7 to their proper values\n",
    "df['latitude'] = df['latitudeE7'] / 1e7\n",
    "df['longitude'] = df['longitudeE7'] / 1e7\n",
    "\n",
    "# Parse the timestamp\n",
    "df['timestamp'] = pd.to_datetime(df['timestamp'])\n",
    "\n",
    "# Keep only the required columns\n",
    "df = df[['latitude', 'longitude', 'timestamp']]\n",
    "\n",
    "df = df.dropna(subset=['timestamp'])"
   ]
  },
  {
   "cell_type": "code",
   "execution_count": null,
   "id": "1d1be063",
   "metadata": {},
   "outputs": [],
   "source": [
    "# Define start and end dates\n",
    "start_datetime = pd.to_datetime(start_date).replace(tzinfo=utc)\n",
    "end_datetime = pd.to_datetime(end_date).replace(tzinfo=utc)\n",
    "\n",
    "# Normalize timestamps into a 0-1 range\n",
    "df['timestamp_norm'] = (df['timestamp'] - start_datetime) / (end_datetime - start_datetime)\n",
    "\n",
    "# Define colormap\n",
    "cmap = plt.get_cmap('Spectral')\n",
    "\n",
    "# Create a normalizer object\n",
    "norm = Normalize(vmin=0, vmax=1)\n",
    "\n",
    "# Create a scalar mappable object\n",
    "sm = ScalarMappable(cmap=cmap, norm=norm)\n",
    "sm.set_array([])\n",
    "\n",
    "# Map normalized timestamps to colors\n",
    "df['color'] = df['timestamp_norm'].apply(lambda x: sm.to_rgba(x))\n",
    "\n",
    "# Filter out rows with timestamps outside the desired date range\n",
    "df = df[(df['timestamp'] >= start_datetime) & (df['timestamp'] <= end_datetime)]\n",
    "\n",
    "# Convert RGBA colors to hexadecimal\n",
    "df['color'] = df['timestamp_norm'].apply(lambda x: to_hex(sm.to_rgba(x)))"
   ]
  },
  {
   "cell_type": "code",
   "execution_count": null,
   "id": "a2c849fc",
   "metadata": {},
   "outputs": [],
   "source": [
    "# Initialize a map centered around Japan\n",
    "m = folium.Map(location=center, zoom_start=5, prefer_canvas=True, tiles='CartoDBPositronNoLabels')\n",
    "\n",
    "# Add each coordinate to the map\n",
    "for index, row in df.iterrows():\n",
    "    folium.CircleMarker(\n",
    "        location=[row['latitude'], row['longitude']],\n",
    "        radius=1,\n",
    "        color=row['color'],\n",
    "        fill=True,\n",
    "        fill_color=row['color']\n",
    "    ).add_to(m)"
   ]
  },
  {
   "cell_type": "code",
   "execution_count": null,
   "id": "f52d7e37",
   "metadata": {},
   "outputs": [],
   "source": [
    "# Save the map\n",
    "m.save('map.html')"
   ]
  },
  {
   "cell_type": "code",
   "execution_count": null,
   "id": "19d9a79a",
   "metadata": {},
   "outputs": [],
   "source": [
    "# Display the map\n",
    "# Warning: can be slow in a notebook\n",
    "m"
   ]
  }
 ],
 "metadata": {
  "kernelspec": {
   "display_name": "Python 3 (ipykernel)",
   "language": "python",
   "name": "python3"
  },
  "language_info": {
   "codemirror_mode": {
    "name": "ipython",
    "version": 3
   },
   "file_extension": ".py",
   "mimetype": "text/x-python",
   "name": "python",
   "nbconvert_exporter": "python",
   "pygments_lexer": "ipython3",
   "version": "3.11.2"
  }
 },
 "nbformat": 4,
 "nbformat_minor": 5
}
